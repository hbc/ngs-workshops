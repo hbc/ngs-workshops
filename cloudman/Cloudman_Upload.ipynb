{
 "metadata": {
  "name": "",
  "signature": "sha256:248e8d1830538e41b0431ac5a9e5e20c2affb022ce536a6b6f2263ba1b927f9c"
 },
 "nbformat": 3,
 "nbformat_minor": 0,
 "worksheets": [
  {
   "cells": [
    {
     "cell_type": "heading",
     "level": 1,
     "metadata": {},
     "source": [
      "Setting up a Galaxy teaching instance"
     ]
    },
    {
     "cell_type": "markdown",
     "metadata": {},
     "source": [
      "Notebook to upload data sets into (shared) data libraries of an existing (running) [CloudMan](https://wiki.galaxyproject.org/CloudMan) Galaxy instance via the [Bioblend](http://bioblend.readthedocs.org/en/latest/) API. While the API supports Cloudman launching and shutdowns a number of steps seem unstable, so this notebook focuses on just the data upload.\n",
      "\n",
      "### Server details\n",
      "\n",
      "This currently uses `Galaxy CloudMan 2.3`, available as an AWS AMI (`ami-a7dbf6ce`), built upon Ubuntu 12.04. The elastic IP and cluster name need to be defined within the config section below. In addition, user keys are expected to be available as environmental variables:\n",
      "\n",
      "```\n",
      "password: retrieved from environment variable CLOUDMAN_PASSWORD\n",
      "access_key: retrieved from environment variable AWS_ACCESS\n",
      "secret_key: retrieved from environment variable AWS_SECRET\n",
      "```\n",
      "\n",
      "### Dependencies\n",
      "\n",
      "For now just the latest version of BioBlend, installed via:\n",
      "\n",
      "    # Clone the repository to a local directory\n",
      "    git clone https://github.com/afgane/bioblend.git\n",
      "\n",
      "    # Install the library\n",
      "    cd bioblend\n",
      "    python setup.py install\n",
      "\n",
      "## Interacting with Galaxy & deploying data sets\n",
      "\n",
      "I can't seem to be able to pre-configure the required storage (data) space. I _thought_ this should be doable through setting `cluster_type` to `Galaxy` and providing the requested storage space to `initial_storage_size`, but this seems to have no effect. Also don't think there is a way to assign an Elastic IP through Bioblend; this would have to happen through the AWS APIs. It seems there is no way to get information about Galaxy from CMI; in particular, admin users still need to be set up manually followed by a restart and the manual generation of an API key from the web interface. Need to talk to Enis to see if this information can be passed on as user data. \n",
      "\n",
      "For now this means spinning up the Cloudman instance manually as described elsewhere, then using this script to connect to the running instance and:\n",
      "\n",
      "* setting up the admin user manually through the Cloudman Admin interface, \n",
      "* registering the admin user in Galaxy, \n",
      "* creating an API key and \n",
      "* adding it manually to the code snippet below\n",
      "\n",
      "The code then worries about creating libraries based on a YAML input file that describes the folders in the library along with the contents. Right now it only uploads data files that are present in the YAML file. Ideally it would iterate over the defined folders and upload everything there with default settings (autodetect, no database set), grabbing additional metadata from the YAML definitions where available."
     ]
    },
    {
     "cell_type": "markdown",
     "metadata": {},
     "source": [
      "## Configuration\n",
      "\n",
      "Starting a new instance from scratch."
     ]
    },
    {
     "cell_type": "code",
     "collapsed": false,
     "input": [
      "# Basic setup\n",
      "import os, os.path, yaml, pprint, urlparse\n",
      "from bioblend.cloudman import CloudManConfig\n",
      "from bioblend.cloudman import CloudManInstance\n",
      "from bioblend.galaxy import GalaxyInstance\n",
      "\n",
      "# Hard-coded variables, change as needed\n",
      "CLUSTERNAME = 'tnt_rev'\n",
      "RUNNINGIP = '23.23.134.25'\n",
      "\n",
      "# Right now need to generate Galaxy API key online;\n",
      "# check if this can be done via Bioblend\n",
      "GALAXYAPI = \"edc0dcfe2158d3d55d28cbbe72a46afb\"\n",
      "\n",
      "# Grabbing keys from environment variables\n",
      "PASSWORD = os.environ.get('CLOUDMAN_PASSWORD')\n",
      "ACCESSKEY = os.environ.get('AWS_ACCESS')\n",
      "SECRETKEY = os.environ.get('AWS_SECRET')\n",
      "\n",
      "if not (PASSWORD and ACCESSKEY and SECRETKEY):\n",
      "    raise ValueError, 'Please set CLOUDMAN_PASSWORD, AWS_ACCESS and AWS_SECRET environmental variables'\n",
      "\n",
      "## Additional variables that need to be set\n",
      "## when spinning up an instance from scratch\n",
      "#AMI = 'ami-a7dbf6ce'\n",
      "#INSTANCE = 'm1.medium'\n",
      "#DATACENTER = 'us-east-1d'\n",
      "#SIZE = 128"
     ],
     "language": "python",
     "metadata": {},
     "outputs": [],
     "prompt_number": 5
    },
    {
     "cell_type": "markdown",
     "metadata": {},
     "source": [
      "## Connecting to Cloudman\n",
      "\n",
      "Two options: start up a new Cloudman instance based on the parameter above..."
     ]
    },
    {
     "cell_type": "code",
     "collapsed": false,
     "input": [
      "## CloudManConfig('<your cloud access key>', '<your cloud secret key>', 'My CloudMan',  'ami-<ID>', 'm1.small', '<password>')\n",
      "#cfg = CloudManConfig(ACCESSKEY, SECRETKEY, CLUSTERNAME, AMI, INSTANCE, PASSWORD, placement=DATACENTER, cluster_type='Galaxy', initial_storage_size=SIZE)\n",
      "#cmi = CloudManInstance.launch_instance(cfg)"
     ],
     "language": "python",
     "metadata": {},
     "outputs": []
    },
    {
     "cell_type": "markdown",
     "metadata": {},
     "source": [
      ".. or re-connect to an existing instance:"
     ]
    },
    {
     "cell_type": "code",
     "collapsed": false,
     "input": [
      "cmi = CloudManInstance(RUNNINGIP, PASSWORD)\n",
      "\n",
      "# Just a sanity check of the instance's parameters\n",
      "for key, value in cmi.get_status().items(): print '%s\\t%s' % (key, value)\n",
      "print '\\nAccess Cloudman admin interface at %s' % (cmi.cloudman_url)\n",
      "\n",
      "# Obtain Cloudman IP address from CMI interface\n",
      "AWSIP = urlparse.urlparse(cmi.get_status()['dns']).netloc\n",
      "\n",
      "# Interactions with the Galaxy API\n",
      "gi = GalaxyInstance(AWSIP, GALAXYAPI)\n",
      "print gi"
     ],
     "language": "python",
     "metadata": {},
     "outputs": [
      {
       "output_type": "stream",
       "stream": "stdout",
       "text": [
        "disk_usage\t{u'total': u'25G', u'pct': u'17%', u'used': u'4.2G'}\n",
        "all_fs\t[]\n",
        "app_status\tgreen\n",
        "autoscaling\t{u'use_autoscaling': False, u'as_max': u'N/A', u'as_min': u'N/A'}\n",
        "snapshot\t{u'status': u'None', u'progress': u'None'}\n",
        "cluster_status\tREADY\n",
        "dns\thttp://23.23.134.25\n",
        "instance_status\t{u'available': u'0', u'requested': u'0', u'idle': u'0'}\n",
        "data_status\tgreen\n",
        "\n",
        "Access Cloudman admin interface at http://23.23.134.25/cloud\n",
        "GalaxyInstance object for Galaxy at http://23.23.134.25"
       ]
      },
      {
       "output_type": "stream",
       "stream": "stdout",
       "text": [
        "\n"
       ]
      }
     ],
     "prompt_number": 7
    },
    {
     "cell_type": "markdown",
     "metadata": {},
     "source": [
      "## Data import\n",
      "\n",
      "With the connection established do some house-cleaning (removing old libraries, if any), then iterate over the `.yaml` config files and upload the described data sets into the configured data library folders."
     ]
    },
    {
     "cell_type": "code",
     "collapsed": false,
     "input": [
      "import datetime as dt\n",
      "\n",
      "# Get rid of old libraries, if any\n",
      "libs = gi.libraries.get_libraries()\n",
      "\n",
      "for library in libs:\n",
      "    library['id']\n",
      "    gi.libraries.delete_library(library['id'])\n",
      "assert not gi.libraries.get_libraries()\n",
      "\n",
      "def createGalaxyLib(libdata):\n",
      "    # Path information is mandatory\n",
      "    libpath = os.path.join('.', libdata['Path'])\n",
      "    libname = os.path.basename(libpath)\n",
      "    \n",
      "    # Set up library. Does not catch missing dictionary fields yet\n",
      "    libinfo = gi.libraries.create_library(libname, description=libdata.get('Description'), synopsis=libdata.get('Synopsis'))\n",
      "\n",
      "    # Iterate over folders, create and populate\n",
      "    for folder in libdata['Folders']:\n",
      "        if folder['Path']:\n",
      "            # Create a folder and store files within this folder\n",
      "            folderinfo = gi.libraries.create_folder(libinfo['id'], folder['Path'], description=folder.get('Desc')) \n",
      "            folderid = folderinfo[0]['id']\n",
      "            folderpath = os.path.join(libpath, folder['Path'])\n",
      "        else:\n",
      "            # Upload to top level instead\n",
      "            folderid = None\n",
      "            folderpath = libpath\n",
      "\n",
      "        # Iterate over data files. Change here to iterate over \n",
      "        # data files in folder, pulling additional information\n",
      "        # from the YAML config where available\n",
      "        for dataset in folder['files']:\n",
      "            datafile = os.path.join(folderpath, dataset['filename'])\n",
      "            filetype = dataset.get('filetype')\n",
      "            database = dataset.get('database')\n",
      "        \n",
      "            if not filetype: filetype='auto'\n",
      "            if not database: database='?'\n",
      "\n",
      "            # Upload each along with available metadata\n",
      "            start = dt.datetime.now()\n",
      "            gi.libraries.upload_file_from_local_path(libinfo['id'], datafile, folder_id=folderid, file_type=filetype, dbkey=database)\n",
      "            end = dt.datetime.now()\n",
      "            print 'Installed %s into %s in %s' % (os.path.basename(datafile), libpath, str(end - start))\n",
      "            \n",
      "# Iterate over YAML config files, one per library\n",
      "import glob\n",
      "\n",
      "for fname in glob.glob(os.path.join('.', 'dataConfig', '*.yaml')):\n",
      "    with open(fname, 'r') as stream:\n",
      "        libdata = yaml.load(stream)\n",
      "        createGalaxyLib(libdata)"
     ],
     "language": "python",
     "metadata": {},
     "outputs": [
      {
       "output_type": "stream",
       "stream": "stdout",
       "text": [
        "Installed H1hesc_Input_Rep1_chr12_qualityfiltered.fastq into ././data/ChIP-Seq in 0:01:00.356420\n",
        "Installed H1hesc_Input_Rep1_chr12_unfiltered.fastq into ././data/ChIP-Seq in 0:01:13.063603"
       ]
      },
      {
       "output_type": "stream",
       "stream": "stdout",
       "text": [
        "\n",
        "Installed H1hesc_Input_Rep2_chr12.fastq into ././data/ChIP-Seq in 0:00:44.277151"
       ]
      },
      {
       "output_type": "stream",
       "stream": "stdout",
       "text": [
        "\n",
        "Installed H1hesc_Nanog_Rep1_chr12.fastq into ././data/ChIP-Seq in 0:00:23.605298"
       ]
      },
      {
       "output_type": "stream",
       "stream": "stdout",
       "text": [
        "\n",
        "Installed H1hesc_Nanog_Rep2_chr12.fastq into ././data/ChIP-Seq in 0:00:45.538102"
       ]
      },
      {
       "output_type": "stream",
       "stream": "stdout",
       "text": [
        "\n",
        "Installed H1hesc_Pou5f1_Rep1_chr12.fastq into ././data/ChIP-Seq in 0:00:23.187559"
       ]
      },
      {
       "output_type": "stream",
       "stream": "stdout",
       "text": [
        "\n",
        "Installed H1hesc_Pou5f1_Rep2_chr12.fastq into ././data/ChIP-Seq in 0:00:46.142029"
       ]
      },
      {
       "output_type": "stream",
       "stream": "stdout",
       "text": [
        "\n",
        "Installed hg19-chr12-reference_sequence.fa into ././data/ChIP-Seq in 0:02:08.098360"
       ]
      },
      {
       "output_type": "stream",
       "stream": "stdout",
       "text": [
        "\n",
        "Installed MACS_Nanog_Rep1.chr12.bed into ././data/ChIP-Seq in 0:00:01.039362"
       ]
      },
      {
       "output_type": "stream",
       "stream": "stdout",
       "text": [
        "\n",
        "Installed MACS_Nanog_Rep2.chr12.bed into ././data/ChIP-Seq in 0:00:01.182009"
       ]
      },
      {
       "output_type": "stream",
       "stream": "stdout",
       "text": [
        "\n",
        "Installed MACS_Pou5f1_Rep1.chr12.bed into ././data/ChIP-Seq in 0:00:30.082434"
       ]
      },
      {
       "output_type": "stream",
       "stream": "stdout",
       "text": [
        "\n",
        "Installed MACS_Pou5f1_Rep2.chr12.bed into ././data/ChIP-Seq in 0:00:20.299387"
       ]
      },
      {
       "output_type": "stream",
       "stream": "stdout",
       "text": [
        "\n",
        "Installed H1hesc_Input_Rep1_chr12_aln.bam into ././data/ChIP-Seq in 0:00:20.403089"
       ]
      },
      {
       "output_type": "stream",
       "stream": "stdout",
       "text": [
        "\n",
        "Installed H1hesc_Input_Rep2_chr12_aln.bam into ././data/ChIP-Seq in 0:00:13.677854"
       ]
      },
      {
       "output_type": "stream",
       "stream": "stdout",
       "text": [
        "\n",
        "Installed H1hesc_Nanog_Rep1_chr12_aln.bam into ././data/ChIP-Seq in 0:00:07.832458"
       ]
      },
      {
       "output_type": "stream",
       "stream": "stdout",
       "text": [
        "\n",
        "Installed H1hesc_Nanog_Rep2_chr12_aln.bam into ././data/ChIP-Seq in 0:00:23.397453"
       ]
      },
      {
       "output_type": "stream",
       "stream": "stdout",
       "text": [
        "\n",
        "Installed H1hesc_Pou5f1_Rep1_chr12_aln.bam into ././data/ChIP-Seq in 0:00:06.369570"
       ]
      },
      {
       "output_type": "stream",
       "stream": "stdout",
       "text": [
        "\n",
        "Installed H1hesc_Pou5f1_Rep2_chr12_aln.bam into ././data/ChIP-Seq in 0:00:13.349864"
       ]
      },
      {
       "output_type": "stream",
       "stream": "stdout",
       "text": [
        "\n",
        "Installed Encode-hesc-Nanog.narrowPeak into ././data/ChIP-Seq in 0:00:02.366275"
       ]
      },
      {
       "ename": "KeyboardInterrupt",
       "evalue": "",
       "output_type": "pyerr",
       "traceback": [
        "\u001b[0;31m---------------------------------------------------------------------------\u001b[0m\n\u001b[0;31mKeyboardInterrupt\u001b[0m                         Traceback (most recent call last)",
        "\u001b[0;32m<ipython-input-10-bdecd6869f27>\u001b[0m in \u001b[0;36m<module>\u001b[0;34m()\u001b[0m\n\u001b[1;32m     52\u001b[0m     \u001b[0;32mwith\u001b[0m \u001b[0mopen\u001b[0m\u001b[0;34m(\u001b[0m\u001b[0mfname\u001b[0m\u001b[0;34m,\u001b[0m \u001b[0;34m'r'\u001b[0m\u001b[0;34m)\u001b[0m \u001b[0;32mas\u001b[0m \u001b[0mstream\u001b[0m\u001b[0;34m:\u001b[0m\u001b[0;34m\u001b[0m\u001b[0m\n\u001b[1;32m     53\u001b[0m         \u001b[0mlibdata\u001b[0m \u001b[0;34m=\u001b[0m \u001b[0myaml\u001b[0m\u001b[0;34m.\u001b[0m\u001b[0mload\u001b[0m\u001b[0;34m(\u001b[0m\u001b[0mstream\u001b[0m\u001b[0;34m)\u001b[0m\u001b[0;34m\u001b[0m\u001b[0m\n\u001b[0;32m---> 54\u001b[0;31m         \u001b[0mcreateGalaxyLib\u001b[0m\u001b[0;34m(\u001b[0m\u001b[0mlibdata\u001b[0m\u001b[0;34m)\u001b[0m\u001b[0;34m\u001b[0m\u001b[0m\n\u001b[0m",
        "\u001b[0;32m<ipython-input-10-bdecd6869f27>\u001b[0m in \u001b[0;36mcreateGalaxyLib\u001b[0;34m(libdata)\u001b[0m\n\u001b[1;32m     42\u001b[0m             \u001b[0;31m# Upload each along with available metadata\u001b[0m\u001b[0;34m\u001b[0m\u001b[0;34m\u001b[0m\u001b[0m\n\u001b[1;32m     43\u001b[0m             \u001b[0mstart\u001b[0m \u001b[0;34m=\u001b[0m \u001b[0mdt\u001b[0m\u001b[0;34m.\u001b[0m\u001b[0mdatetime\u001b[0m\u001b[0;34m.\u001b[0m\u001b[0mnow\u001b[0m\u001b[0;34m(\u001b[0m\u001b[0;34m)\u001b[0m\u001b[0;34m\u001b[0m\u001b[0m\n\u001b[0;32m---> 44\u001b[0;31m             \u001b[0mgi\u001b[0m\u001b[0;34m.\u001b[0m\u001b[0mlibraries\u001b[0m\u001b[0;34m.\u001b[0m\u001b[0mupload_file_from_local_path\u001b[0m\u001b[0;34m(\u001b[0m\u001b[0mlibinfo\u001b[0m\u001b[0;34m[\u001b[0m\u001b[0;34m'id'\u001b[0m\u001b[0;34m]\u001b[0m\u001b[0;34m,\u001b[0m \u001b[0mdatafile\u001b[0m\u001b[0;34m,\u001b[0m \u001b[0mfolder_id\u001b[0m\u001b[0;34m=\u001b[0m\u001b[0mfolderid\u001b[0m\u001b[0;34m,\u001b[0m \u001b[0mfile_type\u001b[0m\u001b[0;34m=\u001b[0m\u001b[0mfiletype\u001b[0m\u001b[0;34m,\u001b[0m \u001b[0mdbkey\u001b[0m\u001b[0;34m=\u001b[0m\u001b[0mdatabase\u001b[0m\u001b[0;34m)\u001b[0m\u001b[0;34m\u001b[0m\u001b[0m\n\u001b[0m\u001b[1;32m     45\u001b[0m             \u001b[0mend\u001b[0m \u001b[0;34m=\u001b[0m \u001b[0mdt\u001b[0m\u001b[0;34m.\u001b[0m\u001b[0mdatetime\u001b[0m\u001b[0;34m.\u001b[0m\u001b[0mnow\u001b[0m\u001b[0;34m(\u001b[0m\u001b[0;34m)\u001b[0m\u001b[0;34m\u001b[0m\u001b[0m\n\u001b[1;32m     46\u001b[0m             \u001b[0;32mprint\u001b[0m \u001b[0;34m'Installed %s into %s in %s'\u001b[0m \u001b[0;34m%\u001b[0m \u001b[0;34m(\u001b[0m\u001b[0mos\u001b[0m\u001b[0;34m.\u001b[0m\u001b[0mpath\u001b[0m\u001b[0;34m.\u001b[0m\u001b[0mbasename\u001b[0m\u001b[0;34m(\u001b[0m\u001b[0mdatafile\u001b[0m\u001b[0;34m)\u001b[0m\u001b[0;34m,\u001b[0m \u001b[0mlibpath\u001b[0m\u001b[0;34m,\u001b[0m \u001b[0mstr\u001b[0m\u001b[0;34m(\u001b[0m\u001b[0mend\u001b[0m \u001b[0;34m-\u001b[0m \u001b[0mstart\u001b[0m\u001b[0;34m)\u001b[0m\u001b[0;34m)\u001b[0m\u001b[0;34m\u001b[0m\u001b[0m\n",
        "\u001b[0;32m/Users/oho/anaconda/lib/python2.7/site-packages/bioblend-0.4.3_dev-py2.7.egg/bioblend/galaxy/libraries/__init__.pyc\u001b[0m in \u001b[0;36mupload_file_from_local_path\u001b[0;34m(self, library_id, file_local_path, folder_id, file_type, dbkey)\u001b[0m\n\u001b[1;32m    248\u001b[0m         \u001b[0mvars\u001b[0m \u001b[0;34m=\u001b[0m \u001b[0mlocals\u001b[0m\u001b[0;34m(\u001b[0m\u001b[0;34m)\u001b[0m\u001b[0;34m.\u001b[0m\u001b[0mcopy\u001b[0m\u001b[0;34m(\u001b[0m\u001b[0;34m)\u001b[0m\u001b[0;34m\u001b[0m\u001b[0m\n\u001b[1;32m    249\u001b[0m         \u001b[0;32mdel\u001b[0m \u001b[0mvars\u001b[0m\u001b[0;34m[\u001b[0m\u001b[0;34m'self'\u001b[0m\u001b[0;34m]\u001b[0m\u001b[0;34m\u001b[0m\u001b[0m\n\u001b[0;32m--> 250\u001b[0;31m         \u001b[0;32mreturn\u001b[0m \u001b[0mself\u001b[0m\u001b[0;34m.\u001b[0m\u001b[0m_do_upload\u001b[0m\u001b[0;34m(\u001b[0m\u001b[0;34m**\u001b[0m\u001b[0mvars\u001b[0m\u001b[0;34m)\u001b[0m\u001b[0;34m\u001b[0m\u001b[0m\n\u001b[0m\u001b[1;32m    251\u001b[0m \u001b[0;34m\u001b[0m\u001b[0m\n\u001b[1;32m    252\u001b[0m     def upload_file_from_server(self, library_id, server_dir, folder_id=None,\n",
        "\u001b[0;32m/Users/oho/anaconda/lib/python2.7/site-packages/bioblend-0.4.3_dev-py2.7.egg/bioblend/galaxy/libraries/__init__.pyc\u001b[0m in \u001b[0;36m_do_upload\u001b[0;34m(self, **keywords)\u001b[0m\n\u001b[1;32m    214\u001b[0m \u001b[0;34m\u001b[0m\u001b[0m\n\u001b[1;32m    215\u001b[0m         r = Client._post(self, payload, id=keywords['library_id'], contents=True,\n\u001b[0;32m--> 216\u001b[0;31m                          files_attached=files_attached)\n\u001b[0m\u001b[1;32m    217\u001b[0m \u001b[0;34m\u001b[0m\u001b[0m\n\u001b[1;32m    218\u001b[0m         \u001b[0;32mif\u001b[0m \u001b[0mpayload\u001b[0m\u001b[0;34m.\u001b[0m\u001b[0mget\u001b[0m\u001b[0;34m(\u001b[0m\u001b[0;34m'files_0|file_data'\u001b[0m\u001b[0;34m,\u001b[0m \u001b[0mNone\u001b[0m\u001b[0;34m)\u001b[0m \u001b[0;32mis\u001b[0m \u001b[0;32mnot\u001b[0m \u001b[0mNone\u001b[0m\u001b[0;34m:\u001b[0m\u001b[0;34m\u001b[0m\u001b[0m\n",
        "\u001b[0;32m/Users/oho/anaconda/lib/python2.7/site-packages/bioblend-0.4.3_dev-py2.7.egg/bioblend/galaxy/client.pyc\u001b[0m in \u001b[0;36m_post\u001b[0;34m(self, payload, id, deleted, contents, url, files_attached)\u001b[0m\n\u001b[1;32m    179\u001b[0m             \u001b[0murl\u001b[0m \u001b[0;34m=\u001b[0m \u001b[0mself\u001b[0m\u001b[0;34m.\u001b[0m\u001b[0mgi\u001b[0m\u001b[0;34m.\u001b[0m\u001b[0m_make_url\u001b[0m\u001b[0;34m(\u001b[0m\u001b[0mself\u001b[0m\u001b[0;34m,\u001b[0m \u001b[0mmodule_id\u001b[0m\u001b[0;34m=\u001b[0m\u001b[0mid\u001b[0m\u001b[0;34m,\u001b[0m \u001b[0mdeleted\u001b[0m\u001b[0;34m=\u001b[0m\u001b[0mdeleted\u001b[0m\u001b[0;34m,\u001b[0m \u001b[0mcontents\u001b[0m\u001b[0;34m=\u001b[0m\u001b[0mcontents\u001b[0m\u001b[0;34m)\u001b[0m\u001b[0;34m\u001b[0m\u001b[0m\n\u001b[1;32m    180\u001b[0m \u001b[0;34m\u001b[0m\u001b[0m\n\u001b[0;32m--> 181\u001b[0;31m         \u001b[0mr\u001b[0m \u001b[0;34m=\u001b[0m \u001b[0mself\u001b[0m\u001b[0;34m.\u001b[0m\u001b[0mgi\u001b[0m\u001b[0;34m.\u001b[0m\u001b[0mmake_post_request\u001b[0m\u001b[0;34m(\u001b[0m\u001b[0murl\u001b[0m\u001b[0;34m,\u001b[0m \u001b[0mpayload\u001b[0m\u001b[0;34m=\u001b[0m\u001b[0mpayload\u001b[0m\u001b[0;34m,\u001b[0m \u001b[0mfiles_attached\u001b[0m\u001b[0;34m=\u001b[0m\u001b[0mfiles_attached\u001b[0m\u001b[0;34m)\u001b[0m\u001b[0;34m\u001b[0m\u001b[0m\n\u001b[0m\u001b[1;32m    182\u001b[0m \u001b[0;34m\u001b[0m\u001b[0m\n\u001b[1;32m    183\u001b[0m         \u001b[0;32mreturn\u001b[0m \u001b[0mr\u001b[0m\u001b[0;34m\u001b[0m\u001b[0m\n",
        "\u001b[0;32m/Users/oho/anaconda/lib/python2.7/site-packages/bioblend-0.4.3_dev-py2.7.egg/bioblend/galaxyclient.pyc\u001b[0m in \u001b[0;36mmake_post_request\u001b[0;34m(self, url, payload, params, files_attached)\u001b[0m\n\u001b[1;32m     83\u001b[0m             \u001b[0mdatagen\u001b[0m\u001b[0;34m,\u001b[0m \u001b[0mheaders\u001b[0m \u001b[0;34m=\u001b[0m \u001b[0mposter\u001b[0m\u001b[0;34m.\u001b[0m\u001b[0mencode\u001b[0m\u001b[0;34m.\u001b[0m\u001b[0mmultipart_encode\u001b[0m\u001b[0;34m(\u001b[0m\u001b[0mpayload\u001b[0m\u001b[0;34m)\u001b[0m\u001b[0;34m\u001b[0m\u001b[0m\n\u001b[1;32m     84\u001b[0m             \u001b[0mrequest\u001b[0m \u001b[0;34m=\u001b[0m \u001b[0murllib2\u001b[0m\u001b[0;34m.\u001b[0m\u001b[0mRequest\u001b[0m\u001b[0;34m(\u001b[0m\u001b[0murl\u001b[0m\u001b[0;34m,\u001b[0m \u001b[0mdatagen\u001b[0m\u001b[0;34m,\u001b[0m \u001b[0mheaders\u001b[0m\u001b[0;34m)\u001b[0m\u001b[0;34m\u001b[0m\u001b[0m\n\u001b[0;32m---> 85\u001b[0;31m             \u001b[0mfp\u001b[0m \u001b[0;34m=\u001b[0m \u001b[0murllib2\u001b[0m\u001b[0;34m.\u001b[0m\u001b[0murlopen\u001b[0m\u001b[0;34m(\u001b[0m\u001b[0mrequest\u001b[0m\u001b[0;34m)\u001b[0m\u001b[0;34m\u001b[0m\u001b[0m\n\u001b[0m\u001b[1;32m     86\u001b[0m             \u001b[0;32mreturn\u001b[0m \u001b[0msimplejson\u001b[0m\u001b[0;34m.\u001b[0m\u001b[0mload\u001b[0m\u001b[0;34m(\u001b[0m\u001b[0mfp\u001b[0m\u001b[0;34m)\u001b[0m\u001b[0;34m\u001b[0m\u001b[0m\n\u001b[1;32m     87\u001b[0m         \u001b[0;32melse\u001b[0m\u001b[0;34m:\u001b[0m\u001b[0;34m\u001b[0m\u001b[0m\n",
        "\u001b[0;32m/Users/oho/anaconda/python.app/Contents/lib/python2.7/urllib2.pyc\u001b[0m in \u001b[0;36murlopen\u001b[0;34m(url, data, timeout)\u001b[0m\n\u001b[1;32m    125\u001b[0m     \u001b[0;32mif\u001b[0m \u001b[0m_opener\u001b[0m \u001b[0;32mis\u001b[0m \u001b[0mNone\u001b[0m\u001b[0;34m:\u001b[0m\u001b[0;34m\u001b[0m\u001b[0m\n\u001b[1;32m    126\u001b[0m         \u001b[0m_opener\u001b[0m \u001b[0;34m=\u001b[0m \u001b[0mbuild_opener\u001b[0m\u001b[0;34m(\u001b[0m\u001b[0;34m)\u001b[0m\u001b[0;34m\u001b[0m\u001b[0m\n\u001b[0;32m--> 127\u001b[0;31m     \u001b[0;32mreturn\u001b[0m \u001b[0m_opener\u001b[0m\u001b[0;34m.\u001b[0m\u001b[0mopen\u001b[0m\u001b[0;34m(\u001b[0m\u001b[0murl\u001b[0m\u001b[0;34m,\u001b[0m \u001b[0mdata\u001b[0m\u001b[0;34m,\u001b[0m \u001b[0mtimeout\u001b[0m\u001b[0;34m)\u001b[0m\u001b[0;34m\u001b[0m\u001b[0m\n\u001b[0m\u001b[1;32m    128\u001b[0m \u001b[0;34m\u001b[0m\u001b[0m\n\u001b[1;32m    129\u001b[0m \u001b[0;32mdef\u001b[0m \u001b[0minstall_opener\u001b[0m\u001b[0;34m(\u001b[0m\u001b[0mopener\u001b[0m\u001b[0;34m)\u001b[0m\u001b[0;34m:\u001b[0m\u001b[0;34m\u001b[0m\u001b[0m\n",
        "\u001b[0;32m/Users/oho/anaconda/python.app/Contents/lib/python2.7/urllib2.pyc\u001b[0m in \u001b[0;36mopen\u001b[0;34m(self, fullurl, data, timeout)\u001b[0m\n\u001b[1;32m    402\u001b[0m             \u001b[0mreq\u001b[0m \u001b[0;34m=\u001b[0m \u001b[0mmeth\u001b[0m\u001b[0;34m(\u001b[0m\u001b[0mreq\u001b[0m\u001b[0;34m)\u001b[0m\u001b[0;34m\u001b[0m\u001b[0m\n\u001b[1;32m    403\u001b[0m \u001b[0;34m\u001b[0m\u001b[0m\n\u001b[0;32m--> 404\u001b[0;31m         \u001b[0mresponse\u001b[0m \u001b[0;34m=\u001b[0m \u001b[0mself\u001b[0m\u001b[0;34m.\u001b[0m\u001b[0m_open\u001b[0m\u001b[0;34m(\u001b[0m\u001b[0mreq\u001b[0m\u001b[0;34m,\u001b[0m \u001b[0mdata\u001b[0m\u001b[0;34m)\u001b[0m\u001b[0;34m\u001b[0m\u001b[0m\n\u001b[0m\u001b[1;32m    405\u001b[0m \u001b[0;34m\u001b[0m\u001b[0m\n\u001b[1;32m    406\u001b[0m         \u001b[0;31m# post-process response\u001b[0m\u001b[0;34m\u001b[0m\u001b[0;34m\u001b[0m\u001b[0m\n",
        "\u001b[0;32m/Users/oho/anaconda/python.app/Contents/lib/python2.7/urllib2.pyc\u001b[0m in \u001b[0;36m_open\u001b[0;34m(self, req, data)\u001b[0m\n\u001b[1;32m    420\u001b[0m         \u001b[0mprotocol\u001b[0m \u001b[0;34m=\u001b[0m \u001b[0mreq\u001b[0m\u001b[0;34m.\u001b[0m\u001b[0mget_type\u001b[0m\u001b[0;34m(\u001b[0m\u001b[0;34m)\u001b[0m\u001b[0;34m\u001b[0m\u001b[0m\n\u001b[1;32m    421\u001b[0m         result = self._call_chain(self.handle_open, protocol, protocol +\n\u001b[0;32m--> 422\u001b[0;31m                                   '_open', req)\n\u001b[0m\u001b[1;32m    423\u001b[0m         \u001b[0;32mif\u001b[0m \u001b[0mresult\u001b[0m\u001b[0;34m:\u001b[0m\u001b[0;34m\u001b[0m\u001b[0m\n\u001b[1;32m    424\u001b[0m             \u001b[0;32mreturn\u001b[0m \u001b[0mresult\u001b[0m\u001b[0;34m\u001b[0m\u001b[0m\n",
        "\u001b[0;32m/Users/oho/anaconda/python.app/Contents/lib/python2.7/urllib2.pyc\u001b[0m in \u001b[0;36m_call_chain\u001b[0;34m(self, chain, kind, meth_name, *args)\u001b[0m\n\u001b[1;32m    380\u001b[0m             \u001b[0mfunc\u001b[0m \u001b[0;34m=\u001b[0m \u001b[0mgetattr\u001b[0m\u001b[0;34m(\u001b[0m\u001b[0mhandler\u001b[0m\u001b[0;34m,\u001b[0m \u001b[0mmeth_name\u001b[0m\u001b[0;34m)\u001b[0m\u001b[0;34m\u001b[0m\u001b[0m\n\u001b[1;32m    381\u001b[0m \u001b[0;34m\u001b[0m\u001b[0m\n\u001b[0;32m--> 382\u001b[0;31m             \u001b[0mresult\u001b[0m \u001b[0;34m=\u001b[0m \u001b[0mfunc\u001b[0m\u001b[0;34m(\u001b[0m\u001b[0;34m*\u001b[0m\u001b[0margs\u001b[0m\u001b[0;34m)\u001b[0m\u001b[0;34m\u001b[0m\u001b[0m\n\u001b[0m\u001b[1;32m    383\u001b[0m             \u001b[0;32mif\u001b[0m \u001b[0mresult\u001b[0m \u001b[0;32mis\u001b[0m \u001b[0;32mnot\u001b[0m \u001b[0mNone\u001b[0m\u001b[0;34m:\u001b[0m\u001b[0;34m\u001b[0m\u001b[0m\n\u001b[1;32m    384\u001b[0m                 \u001b[0;32mreturn\u001b[0m \u001b[0mresult\u001b[0m\u001b[0;34m\u001b[0m\u001b[0m\n",
        "\u001b[0;32m/Users/oho/anaconda/lib/python2.7/site-packages/poster-0.8.1-py2.7.egg/poster/streaminghttp.pyc\u001b[0m in \u001b[0;36mhttp_open\u001b[0;34m(self, req)\u001b[0m\n\u001b[1;32m    140\u001b[0m     \u001b[0;32mdef\u001b[0m \u001b[0mhttp_open\u001b[0m\u001b[0;34m(\u001b[0m\u001b[0mself\u001b[0m\u001b[0;34m,\u001b[0m \u001b[0mreq\u001b[0m\u001b[0;34m)\u001b[0m\u001b[0;34m:\u001b[0m\u001b[0;34m\u001b[0m\u001b[0m\n\u001b[1;32m    141\u001b[0m         \u001b[0;34m\"\"\"Open a StreamingHTTPConnection for the given request\"\"\"\u001b[0m\u001b[0;34m\u001b[0m\u001b[0m\n\u001b[0;32m--> 142\u001b[0;31m         \u001b[0;32mreturn\u001b[0m \u001b[0mself\u001b[0m\u001b[0;34m.\u001b[0m\u001b[0mdo_open\u001b[0m\u001b[0;34m(\u001b[0m\u001b[0mStreamingHTTPConnection\u001b[0m\u001b[0;34m,\u001b[0m \u001b[0mreq\u001b[0m\u001b[0;34m)\u001b[0m\u001b[0;34m\u001b[0m\u001b[0m\n\u001b[0m\u001b[1;32m    143\u001b[0m \u001b[0;34m\u001b[0m\u001b[0m\n\u001b[1;32m    144\u001b[0m     \u001b[0;32mdef\u001b[0m \u001b[0mhttp_request\u001b[0m\u001b[0;34m(\u001b[0m\u001b[0mself\u001b[0m\u001b[0;34m,\u001b[0m \u001b[0mreq\u001b[0m\u001b[0;34m)\u001b[0m\u001b[0;34m:\u001b[0m\u001b[0;34m\u001b[0m\u001b[0m\n",
        "\u001b[0;32m/Users/oho/anaconda/python.app/Contents/lib/python2.7/urllib2.pyc\u001b[0m in \u001b[0;36mdo_open\u001b[0;34m(self, http_class, req)\u001b[0m\n\u001b[1;32m   1185\u001b[0m         \u001b[0;32melse\u001b[0m\u001b[0;34m:\u001b[0m\u001b[0;34m\u001b[0m\u001b[0m\n\u001b[1;32m   1186\u001b[0m             \u001b[0;32mtry\u001b[0m\u001b[0;34m:\u001b[0m\u001b[0;34m\u001b[0m\u001b[0m\n\u001b[0;32m-> 1187\u001b[0;31m                 \u001b[0mr\u001b[0m \u001b[0;34m=\u001b[0m \u001b[0mh\u001b[0m\u001b[0;34m.\u001b[0m\u001b[0mgetresponse\u001b[0m\u001b[0;34m(\u001b[0m\u001b[0mbuffering\u001b[0m\u001b[0;34m=\u001b[0m\u001b[0mTrue\u001b[0m\u001b[0;34m)\u001b[0m\u001b[0;34m\u001b[0m\u001b[0m\n\u001b[0m\u001b[1;32m   1188\u001b[0m             \u001b[0;32mexcept\u001b[0m \u001b[0mTypeError\u001b[0m\u001b[0;34m:\u001b[0m \u001b[0;31m# buffering kw not supported\u001b[0m\u001b[0;34m\u001b[0m\u001b[0m\n\u001b[1;32m   1189\u001b[0m                 \u001b[0mr\u001b[0m \u001b[0;34m=\u001b[0m \u001b[0mh\u001b[0m\u001b[0;34m.\u001b[0m\u001b[0mgetresponse\u001b[0m\u001b[0;34m(\u001b[0m\u001b[0;34m)\u001b[0m\u001b[0;34m\u001b[0m\u001b[0m\n",
        "\u001b[0;32m/Users/oho/anaconda/python.app/Contents/lib/python2.7/httplib.pyc\u001b[0m in \u001b[0;36mgetresponse\u001b[0;34m(self, buffering)\u001b[0m\n\u001b[1;32m   1043\u001b[0m         \u001b[0mresponse\u001b[0m \u001b[0;34m=\u001b[0m \u001b[0mself\u001b[0m\u001b[0;34m.\u001b[0m\u001b[0mresponse_class\u001b[0m\u001b[0;34m(\u001b[0m\u001b[0;34m*\u001b[0m\u001b[0margs\u001b[0m\u001b[0;34m,\u001b[0m \u001b[0;34m**\u001b[0m\u001b[0mkwds\u001b[0m\u001b[0;34m)\u001b[0m\u001b[0;34m\u001b[0m\u001b[0m\n\u001b[1;32m   1044\u001b[0m \u001b[0;34m\u001b[0m\u001b[0m\n\u001b[0;32m-> 1045\u001b[0;31m         \u001b[0mresponse\u001b[0m\u001b[0;34m.\u001b[0m\u001b[0mbegin\u001b[0m\u001b[0;34m(\u001b[0m\u001b[0;34m)\u001b[0m\u001b[0;34m\u001b[0m\u001b[0m\n\u001b[0m\u001b[1;32m   1046\u001b[0m         \u001b[0;32massert\u001b[0m \u001b[0mresponse\u001b[0m\u001b[0;34m.\u001b[0m\u001b[0mwill_close\u001b[0m \u001b[0;34m!=\u001b[0m \u001b[0m_UNKNOWN\u001b[0m\u001b[0;34m\u001b[0m\u001b[0m\n\u001b[1;32m   1047\u001b[0m         \u001b[0mself\u001b[0m\u001b[0;34m.\u001b[0m\u001b[0m__state\u001b[0m \u001b[0;34m=\u001b[0m \u001b[0m_CS_IDLE\u001b[0m\u001b[0;34m\u001b[0m\u001b[0m\n",
        "\u001b[0;32m/Users/oho/anaconda/python.app/Contents/lib/python2.7/httplib.pyc\u001b[0m in \u001b[0;36mbegin\u001b[0;34m(self)\u001b[0m\n\u001b[1;32m    407\u001b[0m         \u001b[0;31m# read until we get a non-100 response\u001b[0m\u001b[0;34m\u001b[0m\u001b[0;34m\u001b[0m\u001b[0m\n\u001b[1;32m    408\u001b[0m         \u001b[0;32mwhile\u001b[0m \u001b[0mTrue\u001b[0m\u001b[0;34m:\u001b[0m\u001b[0;34m\u001b[0m\u001b[0m\n\u001b[0;32m--> 409\u001b[0;31m             \u001b[0mversion\u001b[0m\u001b[0;34m,\u001b[0m \u001b[0mstatus\u001b[0m\u001b[0;34m,\u001b[0m \u001b[0mreason\u001b[0m \u001b[0;34m=\u001b[0m \u001b[0mself\u001b[0m\u001b[0;34m.\u001b[0m\u001b[0m_read_status\u001b[0m\u001b[0;34m(\u001b[0m\u001b[0;34m)\u001b[0m\u001b[0;34m\u001b[0m\u001b[0m\n\u001b[0m\u001b[1;32m    410\u001b[0m             \u001b[0;32mif\u001b[0m \u001b[0mstatus\u001b[0m \u001b[0;34m!=\u001b[0m \u001b[0mCONTINUE\u001b[0m\u001b[0;34m:\u001b[0m\u001b[0;34m\u001b[0m\u001b[0m\n\u001b[1;32m    411\u001b[0m                 \u001b[0;32mbreak\u001b[0m\u001b[0;34m\u001b[0m\u001b[0m\n",
        "\u001b[0;32m/Users/oho/anaconda/python.app/Contents/lib/python2.7/httplib.pyc\u001b[0m in \u001b[0;36m_read_status\u001b[0;34m(self)\u001b[0m\n\u001b[1;32m    363\u001b[0m     \u001b[0;32mdef\u001b[0m \u001b[0m_read_status\u001b[0m\u001b[0;34m(\u001b[0m\u001b[0mself\u001b[0m\u001b[0;34m)\u001b[0m\u001b[0;34m:\u001b[0m\u001b[0;34m\u001b[0m\u001b[0m\n\u001b[1;32m    364\u001b[0m         \u001b[0;31m# Initialize with Simple-Response defaults\u001b[0m\u001b[0;34m\u001b[0m\u001b[0;34m\u001b[0m\u001b[0m\n\u001b[0;32m--> 365\u001b[0;31m         \u001b[0mline\u001b[0m \u001b[0;34m=\u001b[0m \u001b[0mself\u001b[0m\u001b[0;34m.\u001b[0m\u001b[0mfp\u001b[0m\u001b[0;34m.\u001b[0m\u001b[0mreadline\u001b[0m\u001b[0;34m(\u001b[0m\u001b[0m_MAXLINE\u001b[0m \u001b[0;34m+\u001b[0m \u001b[0;36m1\u001b[0m\u001b[0;34m)\u001b[0m\u001b[0;34m\u001b[0m\u001b[0m\n\u001b[0m\u001b[1;32m    366\u001b[0m         \u001b[0;32mif\u001b[0m \u001b[0mlen\u001b[0m\u001b[0;34m(\u001b[0m\u001b[0mline\u001b[0m\u001b[0;34m)\u001b[0m \u001b[0;34m>\u001b[0m \u001b[0m_MAXLINE\u001b[0m\u001b[0;34m:\u001b[0m\u001b[0;34m\u001b[0m\u001b[0m\n\u001b[1;32m    367\u001b[0m             \u001b[0;32mraise\u001b[0m \u001b[0mLineTooLong\u001b[0m\u001b[0;34m(\u001b[0m\u001b[0;34m\"header line\"\u001b[0m\u001b[0;34m)\u001b[0m\u001b[0;34m\u001b[0m\u001b[0m\n",
        "\u001b[0;32m/Users/oho/anaconda/python.app/Contents/lib/python2.7/socket.pyc\u001b[0m in \u001b[0;36mreadline\u001b[0;34m(self, size)\u001b[0m\n\u001b[1;32m    474\u001b[0m             \u001b[0;32mwhile\u001b[0m \u001b[0mTrue\u001b[0m\u001b[0;34m:\u001b[0m\u001b[0;34m\u001b[0m\u001b[0m\n\u001b[1;32m    475\u001b[0m                 \u001b[0;32mtry\u001b[0m\u001b[0;34m:\u001b[0m\u001b[0;34m\u001b[0m\u001b[0m\n\u001b[0;32m--> 476\u001b[0;31m                     \u001b[0mdata\u001b[0m \u001b[0;34m=\u001b[0m \u001b[0mself\u001b[0m\u001b[0;34m.\u001b[0m\u001b[0m_sock\u001b[0m\u001b[0;34m.\u001b[0m\u001b[0mrecv\u001b[0m\u001b[0;34m(\u001b[0m\u001b[0mself\u001b[0m\u001b[0;34m.\u001b[0m\u001b[0m_rbufsize\u001b[0m\u001b[0;34m)\u001b[0m\u001b[0;34m\u001b[0m\u001b[0m\n\u001b[0m\u001b[1;32m    477\u001b[0m                 \u001b[0;32mexcept\u001b[0m \u001b[0merror\u001b[0m\u001b[0;34m,\u001b[0m \u001b[0me\u001b[0m\u001b[0;34m:\u001b[0m\u001b[0;34m\u001b[0m\u001b[0m\n\u001b[1;32m    478\u001b[0m                     \u001b[0;32mif\u001b[0m \u001b[0me\u001b[0m\u001b[0;34m.\u001b[0m\u001b[0margs\u001b[0m\u001b[0;34m[\u001b[0m\u001b[0;36m0\u001b[0m\u001b[0;34m]\u001b[0m \u001b[0;34m==\u001b[0m \u001b[0mEINTR\u001b[0m\u001b[0;34m:\u001b[0m\u001b[0;34m\u001b[0m\u001b[0m\n",
        "\u001b[0;31mKeyboardInterrupt\u001b[0m: "
       ]
      },
      {
       "output_type": "stream",
       "stream": "stdout",
       "text": [
        "\n"
       ]
      }
     ],
     "prompt_number": 10
    },
    {
     "cell_type": "markdown",
     "metadata": {},
     "source": [
      "## Populating histories with library data\n",
      "\n",
      "With the data sets uploaded copy them over to a history for testing purposes, with the history name based on the data library associated with it."
     ]
    },
    {
     "cell_type": "code",
     "collapsed": false,
     "input": [
      "# Get rid of old histories\n",
      "histories = gi.histories.get_histories()\n",
      "\n",
      "for history in histories:\n",
      "    gi.histories.delete_history(history.get('id'), purge=False)\n",
      "\n",
      "def createHistory(libinfo):\n",
      "    libid = libinfo.get('id')\n",
      "    \n",
      "    # Set up new history\n",
      "    histinfo = gi.histories.create_history(name=libinfo.get('name'))\n",
      "\n",
      "    # Get identifiers for all files in library and add to created history\n",
      "    datasets = [dataset['id'] for dataset in gi.libraries.show_library(libid, contents=True)\n",
      "                if dataset['type'] == 'file']\n",
      "   \n",
      "    for dataset in datasets:\n",
      "        gi.histories.upload_dataset_from_library(histinfo['id'], dataset)\n",
      "\n",
      "# Iterate over data libraries, create one history for each and import data\n",
      "libs = gi.libraries.get_libraries()\n",
      "\n",
      "for lib in libs:\n",
      "    createHistory(lib)\n"
     ],
     "language": "python",
     "metadata": {},
     "outputs": [],
     "prompt_number": 62
    },
    {
     "cell_type": "markdown",
     "metadata": {},
     "source": [
      "## There be dragons\n",
      "\n",
      "The steps below are currently not realiable for all kinds of reasons. Do not use on the teaching instance.\n",
      "\n",
      "### Installing tools\n",
      "\n",
      "The default Galaxy instance is missing some of the tools we are using in the course materials. Add them automatically based on a YAML config; code stolen from Enis' scripts to capture error messages.\n",
      "\n",
      "**Curently not reliable; tools sometimes install partially causing problems with the analysis. Install tools manually.**"
     ]
    },
    {
     "cell_type": "code",
     "collapsed": false,
     "input": [
      "# Code stolen from Enis, https://github.com/afgane/gvl_flavor/blob/master/install_tool_shed_tools.py\n",
      "import datetime as dt\n",
      "from bioblend.galaxy.toolshed import ToolShedClient\n",
      "from bioblend.toolshed import ToolShedInstance\n",
      "\n",
      "for fname in glob.glob(os.path.join(BASEDIR, 'toolConfig', '*.yaml')):\n",
      "    with open(fname, 'r') as fh:\n",
      "        tools = yaml.load(fh)\n",
      "\n",
      "    # Get tool list\n",
      "    r_info = tools['tools']\n",
      "\n",
      "    responses = []\n",
      "    counter = 1\n",
      "    total_num_tools = len(r_info)\n",
      "    default_err_msg = 'All repositories that you are attempting to install have been previously installed.'\n",
      "\n",
      "    # Default to install tool, repo dependencies, standard \n",
      "    # toolshed, latest revision unless specified otherwise\n",
      "    for r in r_info:\n",
      "        if 'install_tool_dependencies' not in r:\n",
      "            r['install_tool_dependencies'] = True\n",
      "        if 'install_repository_dependencies' not in r:\n",
      "            r['install_repository_dependencies'] = True\n",
      "        if 'tool_shed_url' not in r:\n",
      "            r['tool_shed_url'] = 'http://toolshed.g2.bx.psu.edu'\n",
      "\n",
      "        ts = ToolShedInstance(url=r['tool_shed_url'])\n",
      "    \n",
      "        if 'revision' not in r:\n",
      "            r['revision'] = ts.repositories.get_ordered_installable_revisions(r['name'], r['owner'])[-1]\n",
      "\n",
      "        tsc = ToolShedClient(gi)\n",
      "        print '\\n(%s/%s) Installing tool %s from %s to section %s' % (counter, total_num_tools, r['name'], r['owner'], r['tool_panel_section_id'])\n",
      "\n",
      "        # Install and capture server response\n",
      "        start = dt.datetime.now()\n",
      "        response = tsc.install_repository_revision(r['tool_shed_url'], r['name'], r['owner'], r['revision'], r['install_tool_dependencies'], r['install_repository_dependencies']) #, r['tool_panel_section_id'])\n",
      "        end = dt.datetime.now()\n",
      "        \n",
      "        if 'error' in response:\n",
      "            if response['error'] == default_err_msg:\n",
      "                print \"Tool %s already installed (at revision %s)\" % (r['name'], r['revision'])\n",
      "            else:\n",
      "                print (\"Tool install error! Name: %s, owner: %s, revision: %s, error: %s\" % (r['name'], r['owner'], r['revision'], response['error']))\n",
      "        else:\n",
      "            print \"Tool %s installed successfully (in %s) at revision %s\" % (r['name'], str(end - start), r['revision'])\n",
      " \n",
      "        outcome = {'tool': r, 'response': response, 'duration': str(end - start)}\n",
      "        responses.append(outcome)\n",
      "        counter += 1\n",
      "\n",
      "    # print responses\n",
      "    print \"All tools listed in %s have been installed.\" % tools\n"
     ],
     "language": "python",
     "metadata": {},
     "outputs": [
      {
       "output_type": "stream",
       "stream": "stdout",
       "text": [
        "\n",
        "(1/2) Installing tool edger from fcaramia to section plots\n",
        "Tool edger already installed (at revision d49d06d35683)"
       ]
      },
      {
       "output_type": "stream",
       "stream": "stdout",
       "text": [
        "\n",
        "\n",
        "(2/2) Installing tool tophat2 from devteam to section plots"
       ]
      },
      {
       "output_type": "stream",
       "stream": "stdout",
       "text": [
        "\n",
        "Tool tophat2 installed successfully (in 0:00:08.067197) at revision ffa30bedbee3"
       ]
      },
      {
       "output_type": "stream",
       "stream": "stdout",
       "text": [
        "\n",
        "All tools listed in {'tools': [{'name': 'edger', 'tool_panel_section_id': 'plots', 'install_repository_dependencies': True, 'tool_shed_url': 'http://toolshed.g2.bx.psu.edu', 'install_tool_dependencies': True, 'owner': 'fcaramia', 'revision': u'd49d06d35683'}, {'name': 'tophat2', 'tool_panel_section_id': 'plots', 'install_repository_dependencies': True, 'tool_shed_url': 'http://toolshed.g2.bx.psu.edu', 'install_tool_dependencies': True, 'owner': 'devteam', 'revision': u'ffa30bedbee3'}]} have been installed.\n"
       ]
      }
     ],
     "prompt_number": 61
    },
    {
     "cell_type": "markdown",
     "metadata": {},
     "source": [
      "This process seems brittle. I am getting random 500 errors from the web server; nevertheless the tools end up being installed most of the time. The error message handling above helps a bit, but not ideal."
     ]
    },
    {
     "cell_type": "markdown",
     "metadata": {},
     "source": [
      "### Terminating and re-starting\n",
      "\n",
      "There seems to be no way to trigger just a Galaxy restart; Bioblend only supports complete termination of the cluster. Trying to shut down the newly created cluster, then re-starting it using the same name. Should show up with the manually configured storage space, but right now it seems like terminate() calls always result in the **deletion** of the cluster. \n",
      "\n",
      "**Do not use for now**"
     ]
    },
    {
     "cell_type": "code",
     "collapsed": false,
     "input": [
      "print cmi.get_cluster_type()\n",
      "print cmi.get_status()\n",
      "#cmi.terminate()\n",
      "#delete_cluster=False)\n"
     ],
     "language": "python",
     "metadata": {},
     "outputs": [
      {
       "ename": "ConnectionError",
       "evalue": "HTTPConnectionPool(host='184.73.27.158', port=80): Max retries exceeded with url: /cloud/root/cluster_type (Caused by <class 'socket.error'>: [Errno 60] Operation timed out)",
       "output_type": "pyerr",
       "traceback": [
        "\u001b[0;31m---------------------------------------------------------------------------\u001b[0m\n\u001b[0;31mConnectionError\u001b[0m                           Traceback (most recent call last)",
        "\u001b[0;32m<ipython-input-51-73fd01481d77>\u001b[0m in \u001b[0;36m<module>\u001b[0;34m()\u001b[0m\n\u001b[0;32m----> 1\u001b[0;31m \u001b[0;32mprint\u001b[0m \u001b[0mcmi\u001b[0m\u001b[0;34m.\u001b[0m\u001b[0mget_cluster_type\u001b[0m\u001b[0;34m(\u001b[0m\u001b[0;34m)\u001b[0m\u001b[0;34m\u001b[0m\u001b[0m\n\u001b[0m\u001b[1;32m      2\u001b[0m \u001b[0;32mprint\u001b[0m \u001b[0mcmi\u001b[0m\u001b[0;34m.\u001b[0m\u001b[0mget_status\u001b[0m\u001b[0;34m(\u001b[0m\u001b[0;34m)\u001b[0m\u001b[0;34m\u001b[0m\u001b[0m\n\u001b[1;32m      3\u001b[0m \u001b[0;31m#cmi.terminate()\u001b[0m\u001b[0;34m\u001b[0m\u001b[0;34m\u001b[0m\u001b[0m\n\u001b[1;32m      4\u001b[0m \u001b[0;31m#delete_cluster=False)\u001b[0m\u001b[0;34m\u001b[0m\u001b[0;34m\u001b[0m\u001b[0m\n",
        "\u001b[0;32m/Users/oho/anaconda/lib/python2.7/site-packages/bioblend-0.4.3_dev-py2.7.egg/bioblend/cloudman/__init__.pyc\u001b[0m in \u001b[0;36mwrapper\u001b[0;34m(*args, **kwargs)\u001b[0m\n\u001b[1;32m     46\u001b[0m             raise VMLaunchException(\"Decorated object does not define a wait_till_instance_ready method.\"\n\u001b[1;32m     47\u001b[0m                                     \"Make sure that the object is of type GenericVMInstance.\")\n\u001b[0;32m---> 48\u001b[0;31m         \u001b[0;32mreturn\u001b[0m \u001b[0mfunc\u001b[0m\u001b[0;34m(\u001b[0m\u001b[0;34m*\u001b[0m\u001b[0margs\u001b[0m\u001b[0;34m,\u001b[0m \u001b[0;34m**\u001b[0m\u001b[0mkwargs\u001b[0m\u001b[0;34m)\u001b[0m\u001b[0;34m\u001b[0m\u001b[0m\n\u001b[0m\u001b[1;32m     49\u001b[0m     \u001b[0;32mreturn\u001b[0m \u001b[0mwrapper\u001b[0m\u001b[0;34m\u001b[0m\u001b[0m\n\u001b[1;32m     50\u001b[0m \u001b[0;34m\u001b[0m\u001b[0m\n",
        "\u001b[0;32m/Users/oho/anaconda/lib/python2.7/site-packages/bioblend-0.4.3_dev-py2.7.egg/bioblend/cloudman/__init__.pyc\u001b[0m in \u001b[0;36mget_cluster_type\u001b[0;34m(self)\u001b[0m\n\u001b[1;32m    503\u001b[0m         \u001b[0;32mfor\u001b[0m \u001b[0mexample\u001b[0m\u001b[0;34m:\u001b[0m \u001b[0;34m`\u001b[0m\u001b[0;34m`\u001b[0m\u001b[0;34m{\u001b[0m\u001b[0;34mu'cluster_type'\u001b[0m\u001b[0;34m:\u001b[0m \u001b[0;34mu'SGE'\u001b[0m\u001b[0;34m}\u001b[0m\u001b[0;34m`\u001b[0m\u001b[0;34m`\u001b[0m\u001b[0;34m.\u001b[0m\u001b[0;34m\u001b[0m\u001b[0m\n\u001b[1;32m    504\u001b[0m         \"\"\"\n\u001b[0;32m--> 505\u001b[0;31m         \u001b[0mcluster_type\u001b[0m \u001b[0;34m=\u001b[0m \u001b[0mself\u001b[0m\u001b[0;34m.\u001b[0m\u001b[0m_make_get_request\u001b[0m\u001b[0;34m(\u001b[0m\u001b[0;34m\"cluster_type\"\u001b[0m\u001b[0;34m)\u001b[0m\u001b[0;34m\u001b[0m\u001b[0m\n\u001b[0m\u001b[1;32m    506\u001b[0m         \u001b[0;32mif\u001b[0m \u001b[0mcluster_type\u001b[0m\u001b[0;34m[\u001b[0m\u001b[0;34m'cluster_type'\u001b[0m\u001b[0;34m]\u001b[0m\u001b[0;34m:\u001b[0m\u001b[0;34m\u001b[0m\u001b[0m\n\u001b[1;32m    507\u001b[0m             \u001b[0mself\u001b[0m\u001b[0;34m.\u001b[0m\u001b[0minitialized\u001b[0m \u001b[0;34m=\u001b[0m \u001b[0mTrue\u001b[0m\u001b[0;34m\u001b[0m\u001b[0m\n",
        "\u001b[0;32m/Users/oho/anaconda/lib/python2.7/site-packages/bioblend-0.4.3_dev-py2.7.egg/bioblend/cloudman/__init__.pyc\u001b[0m in \u001b[0;36m_make_get_request\u001b[0;34m(self, url, parameters, timeout)\u001b[0m\n\u001b[1;32m    689\u001b[0m         \u001b[0mreq_url\u001b[0m \u001b[0;34m=\u001b[0m \u001b[0;34m'/'\u001b[0m\u001b[0;34m.\u001b[0m\u001b[0mjoin\u001b[0m\u001b[0;34m(\u001b[0m\u001b[0;34m[\u001b[0m\u001b[0mself\u001b[0m\u001b[0;34m.\u001b[0m\u001b[0mcloudman_url\u001b[0m\u001b[0;34m,\u001b[0m \u001b[0;34m'root'\u001b[0m\u001b[0;34m,\u001b[0m \u001b[0murl\u001b[0m\u001b[0;34m]\u001b[0m\u001b[0;34m)\u001b[0m\u001b[0;34m\u001b[0m\u001b[0m\n\u001b[1;32m    690\u001b[0m         \u001b[0;31m# print \"GET request url: %s params: %s timeout: %s\" % (req_url, parameters, timeout)\u001b[0m\u001b[0;34m\u001b[0m\u001b[0;34m\u001b[0m\u001b[0m\n\u001b[0;32m--> 691\u001b[0;31m         \u001b[0mr\u001b[0m \u001b[0;34m=\u001b[0m \u001b[0mrequests\u001b[0m\u001b[0;34m.\u001b[0m\u001b[0mget\u001b[0m\u001b[0;34m(\u001b[0m\u001b[0mreq_url\u001b[0m\u001b[0;34m,\u001b[0m \u001b[0mparams\u001b[0m\u001b[0;34m=\u001b[0m\u001b[0mparameters\u001b[0m\u001b[0;34m,\u001b[0m \u001b[0mauth\u001b[0m\u001b[0;34m=\u001b[0m\u001b[0;34m(\u001b[0m\u001b[0;34m\"\"\u001b[0m\u001b[0;34m,\u001b[0m \u001b[0mself\u001b[0m\u001b[0;34m.\u001b[0m\u001b[0mpassword\u001b[0m\u001b[0;34m)\u001b[0m\u001b[0;34m,\u001b[0m \u001b[0mtimeout\u001b[0m\u001b[0;34m=\u001b[0m\u001b[0mtimeout\u001b[0m\u001b[0;34m)\u001b[0m\u001b[0;34m\u001b[0m\u001b[0m\n\u001b[0m\u001b[1;32m    692\u001b[0m         \u001b[0;32mtry\u001b[0m\u001b[0;34m:\u001b[0m\u001b[0;34m\u001b[0m\u001b[0m\n\u001b[1;32m    693\u001b[0m             \u001b[0mjson\u001b[0m \u001b[0;34m=\u001b[0m \u001b[0mr\u001b[0m\u001b[0;34m.\u001b[0m\u001b[0mjson\u001b[0m\u001b[0;34m(\u001b[0m\u001b[0;34m)\u001b[0m\u001b[0;34m\u001b[0m\u001b[0m\n",
        "\u001b[0;32m/Users/oho/anaconda/lib/python2.7/site-packages/requests/api.pyc\u001b[0m in \u001b[0;36mget\u001b[0;34m(url, **kwargs)\u001b[0m\n\u001b[1;32m     53\u001b[0m \u001b[0;34m\u001b[0m\u001b[0m\n\u001b[1;32m     54\u001b[0m     \u001b[0mkwargs\u001b[0m\u001b[0;34m.\u001b[0m\u001b[0msetdefault\u001b[0m\u001b[0;34m(\u001b[0m\u001b[0;34m'allow_redirects'\u001b[0m\u001b[0;34m,\u001b[0m \u001b[0mTrue\u001b[0m\u001b[0;34m)\u001b[0m\u001b[0;34m\u001b[0m\u001b[0m\n\u001b[0;32m---> 55\u001b[0;31m     \u001b[0;32mreturn\u001b[0m \u001b[0mrequest\u001b[0m\u001b[0;34m(\u001b[0m\u001b[0;34m'get'\u001b[0m\u001b[0;34m,\u001b[0m \u001b[0murl\u001b[0m\u001b[0;34m,\u001b[0m \u001b[0;34m**\u001b[0m\u001b[0mkwargs\u001b[0m\u001b[0;34m)\u001b[0m\u001b[0;34m\u001b[0m\u001b[0m\n\u001b[0m\u001b[1;32m     56\u001b[0m \u001b[0;34m\u001b[0m\u001b[0m\n\u001b[1;32m     57\u001b[0m \u001b[0;34m\u001b[0m\u001b[0m\n",
        "\u001b[0;32m/Users/oho/anaconda/lib/python2.7/site-packages/requests/api.pyc\u001b[0m in \u001b[0;36mrequest\u001b[0;34m(method, url, **kwargs)\u001b[0m\n\u001b[1;32m     42\u001b[0m \u001b[0;34m\u001b[0m\u001b[0m\n\u001b[1;32m     43\u001b[0m     \u001b[0msession\u001b[0m \u001b[0;34m=\u001b[0m \u001b[0msessions\u001b[0m\u001b[0;34m.\u001b[0m\u001b[0mSession\u001b[0m\u001b[0;34m(\u001b[0m\u001b[0;34m)\u001b[0m\u001b[0;34m\u001b[0m\u001b[0m\n\u001b[0;32m---> 44\u001b[0;31m     \u001b[0;32mreturn\u001b[0m \u001b[0msession\u001b[0m\u001b[0;34m.\u001b[0m\u001b[0mrequest\u001b[0m\u001b[0;34m(\u001b[0m\u001b[0mmethod\u001b[0m\u001b[0;34m=\u001b[0m\u001b[0mmethod\u001b[0m\u001b[0;34m,\u001b[0m \u001b[0murl\u001b[0m\u001b[0;34m=\u001b[0m\u001b[0murl\u001b[0m\u001b[0;34m,\u001b[0m \u001b[0;34m**\u001b[0m\u001b[0mkwargs\u001b[0m\u001b[0;34m)\u001b[0m\u001b[0;34m\u001b[0m\u001b[0m\n\u001b[0m\u001b[1;32m     45\u001b[0m \u001b[0;34m\u001b[0m\u001b[0m\n\u001b[1;32m     46\u001b[0m \u001b[0;34m\u001b[0m\u001b[0m\n",
        "\u001b[0;32m/Users/oho/anaconda/lib/python2.7/site-packages/requests/sessions.pyc\u001b[0m in \u001b[0;36mrequest\u001b[0;34m(self, method, url, params, data, headers, cookies, files, auth, timeout, allow_redirects, proxies, hooks, stream, verify, cert)\u001b[0m\n\u001b[1;32m    333\u001b[0m             \u001b[0;34m'allow_redirects'\u001b[0m\u001b[0;34m:\u001b[0m \u001b[0mallow_redirects\u001b[0m\u001b[0;34m,\u001b[0m\u001b[0;34m\u001b[0m\u001b[0m\n\u001b[1;32m    334\u001b[0m         }\n\u001b[0;32m--> 335\u001b[0;31m         \u001b[0mresp\u001b[0m \u001b[0;34m=\u001b[0m \u001b[0mself\u001b[0m\u001b[0;34m.\u001b[0m\u001b[0msend\u001b[0m\u001b[0;34m(\u001b[0m\u001b[0mprep\u001b[0m\u001b[0;34m,\u001b[0m \u001b[0;34m**\u001b[0m\u001b[0msend_kwargs\u001b[0m\u001b[0;34m)\u001b[0m\u001b[0;34m\u001b[0m\u001b[0m\n\u001b[0m\u001b[1;32m    336\u001b[0m \u001b[0;34m\u001b[0m\u001b[0m\n\u001b[1;32m    337\u001b[0m         \u001b[0;32mreturn\u001b[0m \u001b[0mresp\u001b[0m\u001b[0;34m\u001b[0m\u001b[0m\n",
        "\u001b[0;32m/Users/oho/anaconda/lib/python2.7/site-packages/requests/sessions.pyc\u001b[0m in \u001b[0;36msend\u001b[0;34m(self, request, **kwargs)\u001b[0m\n\u001b[1;32m    436\u001b[0m         \u001b[0mstart\u001b[0m \u001b[0;34m=\u001b[0m \u001b[0mdatetime\u001b[0m\u001b[0;34m.\u001b[0m\u001b[0mutcnow\u001b[0m\u001b[0;34m(\u001b[0m\u001b[0;34m)\u001b[0m\u001b[0;34m\u001b[0m\u001b[0m\n\u001b[1;32m    437\u001b[0m         \u001b[0;31m# Send the request\u001b[0m\u001b[0;34m\u001b[0m\u001b[0;34m\u001b[0m\u001b[0m\n\u001b[0;32m--> 438\u001b[0;31m         \u001b[0mr\u001b[0m \u001b[0;34m=\u001b[0m \u001b[0madapter\u001b[0m\u001b[0;34m.\u001b[0m\u001b[0msend\u001b[0m\u001b[0;34m(\u001b[0m\u001b[0mrequest\u001b[0m\u001b[0;34m,\u001b[0m \u001b[0;34m**\u001b[0m\u001b[0mkwargs\u001b[0m\u001b[0;34m)\u001b[0m\u001b[0;34m\u001b[0m\u001b[0m\n\u001b[0m\u001b[1;32m    439\u001b[0m         \u001b[0;31m# Total elapsed time of the request (approximately)\u001b[0m\u001b[0;34m\u001b[0m\u001b[0;34m\u001b[0m\u001b[0m\n\u001b[1;32m    440\u001b[0m         \u001b[0mr\u001b[0m\u001b[0;34m.\u001b[0m\u001b[0melapsed\u001b[0m \u001b[0;34m=\u001b[0m \u001b[0mdatetime\u001b[0m\u001b[0;34m.\u001b[0m\u001b[0mutcnow\u001b[0m\u001b[0;34m(\u001b[0m\u001b[0;34m)\u001b[0m \u001b[0;34m-\u001b[0m \u001b[0mstart\u001b[0m\u001b[0;34m\u001b[0m\u001b[0m\n",
        "\u001b[0;32m/Users/oho/anaconda/lib/python2.7/site-packages/requests/adapters.pyc\u001b[0m in \u001b[0;36msend\u001b[0;34m(self, request, stream, timeout, verify, cert, proxies)\u001b[0m\n\u001b[1;32m    325\u001b[0m \u001b[0;34m\u001b[0m\u001b[0m\n\u001b[1;32m    326\u001b[0m         \u001b[0;32mexcept\u001b[0m \u001b[0mMaxRetryError\u001b[0m \u001b[0;32mas\u001b[0m \u001b[0me\u001b[0m\u001b[0;34m:\u001b[0m\u001b[0;34m\u001b[0m\u001b[0m\n\u001b[0;32m--> 327\u001b[0;31m             \u001b[0;32mraise\u001b[0m \u001b[0mConnectionError\u001b[0m\u001b[0;34m(\u001b[0m\u001b[0me\u001b[0m\u001b[0;34m)\u001b[0m\u001b[0;34m\u001b[0m\u001b[0m\n\u001b[0m\u001b[1;32m    328\u001b[0m \u001b[0;34m\u001b[0m\u001b[0m\n\u001b[1;32m    329\u001b[0m         \u001b[0;32mexcept\u001b[0m \u001b[0;34m(\u001b[0m\u001b[0m_SSLError\u001b[0m\u001b[0;34m,\u001b[0m \u001b[0m_HTTPError\u001b[0m\u001b[0;34m)\u001b[0m \u001b[0;32mas\u001b[0m \u001b[0me\u001b[0m\u001b[0;34m:\u001b[0m\u001b[0;34m\u001b[0m\u001b[0m\n",
        "\u001b[0;31mConnectionError\u001b[0m: HTTPConnectionPool(host='184.73.27.158', port=80): Max retries exceeded with url: /cloud/root/cluster_type (Caused by <class 'socket.error'>: [Errno 60] Operation timed out)"
       ]
      }
     ],
     "prompt_number": 51
    },
    {
     "cell_type": "code",
     "collapsed": false,
     "input": [
      "# Re-use existing configuration\n",
      "cmi = CloudManInstance.launch_instance(cfg)\n",
      "print cmi.get_status()\n",
      "print cmi.cloudman_url\n"
     ],
     "language": "python",
     "metadata": {},
     "outputs": [
      {
       "output_type": "stream",
       "stream": "stdout",
       "text": [
        "{u'disk_usage': {u'total': u'0', u'pct': u'0%', u'used': u'0'}, u'all_fs': [], u'app_status': u'yellow', u'autoscaling': {u'use_autoscaling': False, u'as_max': u'N/A', u'as_min': u'N/A'}, u'snapshot': {u'status': u'None', u'progress': u'None'}, u'cluster_status': u'STARTING', u'dns': u'#', u'instance_status': {u'available': u'0', u'requested': u'0', u'idle': u'0'}, u'data_status': u'yellow'}\n",
        "http://54.211.165.38/cloud\n"
       ]
      }
     ],
     "prompt_number": 7
    }
   ],
   "metadata": {}
  }
 ]
}